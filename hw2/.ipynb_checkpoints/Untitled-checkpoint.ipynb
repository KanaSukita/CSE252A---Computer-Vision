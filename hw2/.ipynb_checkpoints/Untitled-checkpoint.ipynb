{
 "cells": [
  {
   "cell_type": "code",
   "execution_count": 1,
   "metadata": {},
   "outputs": [
    {
     "name": "stdout",
     "output_type": "stream",
     "text": [
      "dict_keys(['l4', '__header__', '__globals__', 'im1', 'im3', 'im2', 'l2', 'im4', 'l1', '__version__', 'l3'])\n",
      "[[ 0  0 -1]]\n"
     ]
    }
   ],
   "source": [
    "## Example: How to read and access data from a pickle\n",
    "import pickle\n",
    "import matplotlib.pyplot as plt\n",
    "\n",
    "pickle_in = open('synthetic_data.pickle', 'rb')\n",
    "data = pickle._Unpickler(pickle_in)\n",
    "data.encoding = 'latin1'\n",
    "data = data.load()\n",
    "\n",
    "#data is a dict which stores each element as a key-value pair. \n",
    "print(data.keys())\n",
    "\n",
    "#To access the value of an entity, refer it by its key.\n",
    "#plt.imshow(data['im1'],cmap = 'gray')\n",
    "#plt.show()\n",
    "print(data['l1'])"
   ]
  },
  {
   "cell_type": "code",
   "execution_count": 3,
   "metadata": {},
   "outputs": [],
   "source": [
    "from mpl_toolkits.mplot3d import Axes3D\n",
    "import numpy as np\n",
    "\n",
    "pickle_in = open('synthetic_data.pickle', 'rb')\n",
    "data = pickle._Unpickler(pickle_in)\n",
    "data.encoding = 'latin1'\n",
    "data = data.load()\n",
    "\n",
    "#lights = np.vstack((data['l1'],data['l2'],data['l3'],data['l4']))\n",
    "lights = np.vstack((data['l1'],data['l2'],data['l4']))\n",
    "#Hint: be careful about the light-source location and direction of light. \n",
    "#lights right now stores light-source locations\n",
    "\n",
    "images = []\n",
    "images.append(data['im1'])\n",
    "images.append(data['im2'])\n",
    "#images.append(data['im3'])\n",
    "images.append(data['im4'])"
   ]
  },
  {
   "cell_type": "code",
   "execution_count": null,
   "metadata": {},
   "outputs": [],
   "source": [
    "def photometric_stereo(images,lights):\n",
    "    I = np.zeros([images[0].shape[0],images[0].shape[1],lights.shape[0]])\n",
    "    g = np.zeros([images[0].shape[0],images[0].shape[1],lights.shape[0]])\n",
    "    albedo = np.zeros(images[0].shape)\n",
    "    normals = np.zeros([images[0].shape[0],images[0].shape[1],lights.shape[0]])\n",
    "    p = np.zeros(images[0].shape)\n",
    "    q = np.zeros(images[0].shape)\n",
    "    H = np.zeros(images[0].shape)\n",
    "    mask = np.ones(images[0].shape)\n",
    "    for i in range(images[0].shape[0]):\n",
    "        for j in range(images[0].shape[1]):\n",
    "            I[i][j] = np.array([images[0][i][j],images[1][i][j],images[2][i][j]]).T\n",
    "            g[i][j] = np.dot(np.linalg.inv(lights), I[i][j])\n",
    "            albedo[i][j] = np.linalg.norm(g[i][j])\n",
    "            normals[i][j] = g[i][j]/albodo[i][j]\n",
    "            p[i][j] = normals[i][j][0]/normals[i][j][2]\n",
    "            q[i][j] = normals[i][j][1]/normals[i][j][2]\n",
    "    H[0][0] = 0\n",
    "    for i in range(1,images[0].shape[0]):\n",
    "        H[i][0] = H[i-1][0] + q[i][0]\n",
    "    for i in range(images[0].shape[0]):\n",
    "        for j in range(1,images[0].shape[1]):\n",
    "            H[i][j] = H[i][j-1] + p[i][j]\n",
    "            \n",
    "    H_horn = horn_integrate(p,q,mask,10000)\n",
    "    \n",
    "    return albedo,normals,H,H_horn"
   ]
  },
  {
   "cell_type": "code",
   "execution_count": null,
   "metadata": {},
   "outputs": [],
   "source": [
    "np.hstack((data['c'][0][0],data['c'][1][0],data['c'][2][0]))"
   ]
  },
  {
   "cell_type": "code",
   "execution_count": 44,
   "metadata": {},
   "outputs": [
    {
     "data": {
      "text/plain": [
       "2.2360679774997898"
      ]
     },
     "execution_count": 44,
     "metadata": {},
     "output_type": "execute_result"
    }
   ],
   "source": [
    "A = [2,1,2]\n",
    "np.linalg.norm(A[1:])"
   ]
  },
  {
   "cell_type": "code",
   "execution_count": null,
   "metadata": {
    "collapsed": true
   },
   "outputs": [],
   "source": [
    "def photometric_stereo(images,lights):\n",
    "    I = np.zeros([images[0].shape[0],images[0].shape[1],lights.shape[0]])\n",
    "    g = np.zeros([images[0].shape[0],images[0].shape[1],lights.shape[0]])\n",
    "    albedo = np.zeros(images[0].shape)\n",
    "    normals = np.zeros([images[0].shape[0],images[0].shape[1],lights.shape[0]])\n",
    "    p = np.zeros(images[0].shape)\n",
    "    q = np.zeros(images[0].shape)\n",
    "    H = np.zeros(images[0].shape)\n",
    "    mask = np.ones(images[0].shape)\n",
    "    for i in range(images[0].shape[0]):\n",
    "        for j in range(images[0].shape[1]):\n",
    "            I[i][j] = np.array([images[0][i][j],images[1][i][j],images[2][i][j]]).T\n",
    "            #for k in range(lights.shape[0]):\n",
    "                #I[i][j][k] = images[k][i][j]\n",
    "            g[i][j] = np.dot(np.linalg.inv(lights), I[i][j])\n",
    "            albedo[i][j] = np.linalg.norm(g[i][j])\n",
    "            normals[i][j] = g[i][j]/albedo[i][j]\n",
    "            p[i][j] = normals[i][j][0]/normals[i][j][2]\n",
    "            q[i][j] = normals[i][j][1]/normals[i][j][2]\n",
    "    H[0][0] = 0\n",
    "    for i in range(1,images[0].shape[0]):\n",
    "        H[i][0] = H[i-1][0] + q[i][0]\n",
    "    for i in range(images[0].shape[0]):\n",
    "        for j in range(1,images[0].shape[1]):\n",
    "            H[i][j] = H[i][j-1] + p[i][j]\n",
    "            \n",
    "    H_horn = horn_integrate(p,q,mask,10000)\n",
    "    \n",
    "    return albedo,normals,H,H_horn"
   ]
  },
  {
   "cell_type": "code",
   "execution_count": null,
   "metadata": {
    "collapsed": true
   },
   "outputs": [],
   "source": []
  },
  {
   "cell_type": "code",
   "execution_count": null,
   "metadata": {
    "collapsed": true
   },
   "outputs": [],
   "source": []
  },
  {
   "cell_type": "code",
   "execution_count": null,
   "metadata": {
    "collapsed": true
   },
   "outputs": [],
   "source": []
  },
  {
   "cell_type": "code",
   "execution_count": null,
   "metadata": {
    "collapsed": true
   },
   "outputs": [],
   "source": []
  },
  {
   "cell_type": "code",
   "execution_count": null,
   "metadata": {
    "collapsed": true
   },
   "outputs": [],
   "source": []
  },
  {
   "cell_type": "code",
   "execution_count": null,
   "metadata": {
    "collapsed": true
   },
   "outputs": [],
   "source": []
  }
 ],
 "metadata": {
  "kernelspec": {
   "display_name": "Python 3",
   "language": "python",
   "name": "python3"
  },
  "language_info": {
   "codemirror_mode": {
    "name": "ipython",
    "version": 3
   },
   "file_extension": ".py",
   "mimetype": "text/x-python",
   "name": "python",
   "nbconvert_exporter": "python",
   "pygments_lexer": "ipython3",
   "version": "3.6.2"
  }
 },
 "nbformat": 4,
 "nbformat_minor": 2
}
